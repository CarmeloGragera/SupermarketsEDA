{
 "cells": [
  {
   "cell_type": "code",
   "execution_count": 433,
   "metadata": {},
   "outputs": [],
   "source": [
    "import pandas as pd"
   ]
  },
  {
   "cell_type": "code",
   "execution_count": 434,
   "metadata": {},
   "outputs": [],
   "source": [
    "df_mer = pd.read_csv('MERCADONA_modificable')"
   ]
  },
  {
   "cell_type": "code",
   "execution_count": 435,
   "metadata": {},
   "outputs": [],
   "source": [
    "#df_mer = df_mer.drop_duplicates()"
   ]
  },
  {
   "cell_type": "code",
   "execution_count": 436,
   "metadata": {},
   "outputs": [],
   "source": [
    "#df_mer['name'] = df_mer['name'].drop_duplicates()"
   ]
  },
  {
   "cell_type": "code",
   "execution_count": 437,
   "metadata": {},
   "outputs": [],
   "source": [
    "#df_mer = df_mer.dropna()"
   ]
  },
  {
   "cell_type": "code",
   "execution_count": 438,
   "metadata": {},
   "outputs": [],
   "source": [
    "#df = df.drop(columns='Unnamed: 0.1.1').drop(columns='Unnamed: 0.1').drop(columns='Unnamed: 0')"
   ]
  },
  {
   "cell_type": "code",
   "execution_count": 439,
   "metadata": {},
   "outputs": [],
   "source": [
    "#df['name'] = df.loc['name'].apply(lambda x: x.lower().replace('Bosque Verde', 'Génerico'))#.replace('Hacendado', 'Génerico'))"
   ]
  },
  {
   "cell_type": "code",
   "execution_count": 440,
   "metadata": {},
   "outputs": [],
   "source": [
    "#df.to_csv('MERCADONA_modificable')"
   ]
  },
  {
   "cell_type": "code",
   "execution_count": 441,
   "metadata": {},
   "outputs": [],
   "source": [
    "df_dia = pd.read_csv('DIA_modificable')\n",
    "#df_dia = df_dia.drop(columns=['category','supermarket','insert_date'])\n",
    "#df_dia['name'] = df_dia['name'].drop_duplicates()\n",
    "#df_dia = df_dia.dropna()"
   ]
  },
  {
   "cell_type": "code",
   "execution_count": 442,
   "metadata": {},
   "outputs": [],
   "source": [
    "df_carre = pd.read_csv('CARREFOUR_modificable')\n",
    "#df_carre = df_carre.drop(columns=['category','supermarket','insert_date'])\n",
    "#df_carre = df_carre.sort_values('name')\n",
    "#df_carre = df_carre.dropna()"
   ]
  },
  {
   "cell_type": "markdown",
   "metadata": {},
   "source": [
    "Aceite, Aceite, Agua, Refresco Cola, compresas, tampones, pañales ,pan de molde, platano, manzana, tomate, zanahorias, lavavajillas, lejia, fregasuelos"
   ]
  },
  {
   "cell_type": "code",
   "execution_count": 443,
   "metadata": {},
   "outputs": [],
   "source": []
  },
  {
   "cell_type": "code",
   "execution_count": 444,
   "metadata": {},
   "outputs": [],
   "source": [
    "#df_mer=  df_mer.drop(columns=['Unnamed: 0.1', 'Unnamed: 0'\t])"
   ]
  },
  {
   "cell_type": "code",
   "execution_count": 452,
   "metadata": {},
   "outputs": [],
   "source": [
    "df_mer=df_mer.reset_index()"
   ]
  },
  {
   "cell_type": "code",
   "execution_count": 454,
   "metadata": {},
   "outputs": [],
   "source": [
    "df_mer = df_mer.drop(columns=['reference_price','reference_unit','Unnamed: 0','id','level_1','level_0'])"
   ]
  },
  {
   "cell_type": "code",
   "execution_count": 456,
   "metadata": {},
   "outputs": [],
   "source": [
    "df_dia = df_dia.reset_index()"
   ]
  },
  {
   "cell_type": "code",
   "execution_count": 458,
   "metadata": {},
   "outputs": [],
   "source": [
    "df_dia = df_dia.drop(columns=['reference_price','reference_unit','Unnamed: 0','id','level_1','level_0'])"
   ]
  },
  {
   "cell_type": "code",
   "execution_count": 460,
   "metadata": {},
   "outputs": [],
   "source": [
    "df_carre = df_carre.reset_index()"
   ]
  },
  {
   "cell_type": "code",
   "execution_count": 462,
   "metadata": {},
   "outputs": [],
   "source": [
    "df_carre =  df_carre.drop(columns=['reference_price','reference_unit','Unnamed: 0','id','level_1','level_0'])"
   ]
  },
  {
   "cell_type": "code",
   "execution_count": 463,
   "metadata": {},
   "outputs": [
    {
     "data": {
      "text/html": [
       "<div>\n",
       "<style scoped>\n",
       "    .dataframe tbody tr th:only-of-type {\n",
       "        vertical-align: middle;\n",
       "    }\n",
       "\n",
       "    .dataframe tbody tr th {\n",
       "        vertical-align: top;\n",
       "    }\n",
       "\n",
       "    .dataframe thead th {\n",
       "        text-align: right;\n",
       "    }\n",
       "</style>\n",
       "<table border=\"1\" class=\"dataframe\">\n",
       "  <thead>\n",
       "    <tr style=\"text-align: right;\">\n",
       "      <th></th>\n",
       "      <th>Producto</th>\n",
       "      <th>Carrefour</th>\n",
       "    </tr>\n",
       "  </thead>\n",
       "  <tbody>\n",
       "    <tr>\n",
       "      <th>0</th>\n",
       "      <td>Aceite de girasol génerico 1l.</td>\n",
       "      <td>1.00</td>\n",
       "    </tr>\n",
       "    <tr>\n",
       "      <th>1</th>\n",
       "      <td>Aceite de oliva virgen extra génerico garrafa 5l.</td>\n",
       "      <td>16.95</td>\n",
       "    </tr>\n",
       "    <tr>\n",
       "      <th>2</th>\n",
       "      <td>Agua mineral Font Vella 1,5 l.</td>\n",
       "      <td>0.60</td>\n",
       "    </tr>\n",
       "    <tr>\n",
       "      <th>3</th>\n",
       "      <td>Coca Cola 2 L.</td>\n",
       "      <td>1.50</td>\n",
       "    </tr>\n",
       "    <tr>\n",
       "      <th>4</th>\n",
       "      <td>Refresco cola Pepsi 2 l.</td>\n",
       "      <td>1.22</td>\n",
       "    </tr>\n",
       "    <tr>\n",
       "      <th>5</th>\n",
       "      <td>EVAX fina y segura compresa sin alas 12u</td>\n",
       "      <td>1.56</td>\n",
       "    </tr>\n",
       "    <tr>\n",
       "      <th>6</th>\n",
       "      <td>Pañal generico 36 unidades talla 5</td>\n",
       "      <td>10.44</td>\n",
       "    </tr>\n",
       "    <tr>\n",
       "      <th>7</th>\n",
       "      <td>Pañal generico 36 unidades talla 6</td>\n",
       "      <td>11.52</td>\n",
       "    </tr>\n",
       "    <tr>\n",
       "      <th>8</th>\n",
       "      <td>Pan de molde grande generico 820g</td>\n",
       "      <td>1.05</td>\n",
       "    </tr>\n",
       "    <tr>\n",
       "      <th>9</th>\n",
       "      <td>Plátano de Canarias</td>\n",
       "      <td>1.69</td>\n",
       "    </tr>\n",
       "    <tr>\n",
       "      <th>10</th>\n",
       "      <td>Manzana Golden 1kg</td>\n",
       "      <td>1.49</td>\n",
       "    </tr>\n",
       "    <tr>\n",
       "      <th>11</th>\n",
       "      <td>Tomate kumato 1kg</td>\n",
       "      <td>2.70</td>\n",
       "    </tr>\n",
       "    <tr>\n",
       "      <th>12</th>\n",
       "      <td>lavavajillas fairy ultra líquido.</td>\n",
       "      <td>3.50</td>\n",
       "    </tr>\n",
       "    <tr>\n",
       "      <th>13</th>\n",
       "      <td>lavavajillas generico</td>\n",
       "      <td>1.16</td>\n",
       "    </tr>\n",
       "    <tr>\n",
       "      <th>14</th>\n",
       "      <td>friegasuelos generico</td>\n",
       "      <td>1.12</td>\n",
       "    </tr>\n",
       "    <tr>\n",
       "      <th>15</th>\n",
       "      <td>Lejia generico litro</td>\n",
       "      <td>1.00</td>\n",
       "    </tr>\n",
       "  </tbody>\n",
       "</table>\n",
       "</div>"
      ],
      "text/plain": [
       "                                             Producto  Carrefour\n",
       "0                      Aceite de girasol génerico 1l.       1.00\n",
       "1   Aceite de oliva virgen extra génerico garrafa 5l.      16.95\n",
       "2                      Agua mineral Font Vella 1,5 l.       0.60\n",
       "3                                      Coca Cola 2 L.       1.50\n",
       "4                            Refresco cola Pepsi 2 l.       1.22\n",
       "5            EVAX fina y segura compresa sin alas 12u       1.56\n",
       "6                  Pañal generico 36 unidades talla 5      10.44\n",
       "7                  Pañal generico 36 unidades talla 6      11.52\n",
       "8                   Pan de molde grande generico 820g       1.05\n",
       "9                                 Plátano de Canarias       1.69\n",
       "10                                 Manzana Golden 1kg       1.49\n",
       "11                                  Tomate kumato 1kg       2.70\n",
       "12                  lavavajillas fairy ultra líquido.       3.50\n",
       "13                              lavavajillas generico       1.16\n",
       "14                              friegasuelos generico       1.12\n",
       "15                               Lejia generico litro       1.00"
      ]
     },
     "execution_count": 463,
     "metadata": {},
     "output_type": "execute_result"
    }
   ],
   "source": [
    "df_carre"
   ]
  },
  {
   "cell_type": "code",
   "execution_count": 464,
   "metadata": {},
   "outputs": [],
   "source": [
    "df_carre.to_csv('CARREFOUR_modificable')\n",
    "df_dia.to_csv('DIA_modificable')\n",
    "df_mer.to_csv('MERCADONA_modificable')"
   ]
  }
 ],
 "metadata": {
  "interpreter": {
   "hash": "d1f2763574d4bd79769d0a185f72615b658b8eeab44a2700fe2b24926b554275"
  },
  "kernelspec": {
   "display_name": "Python 3.7.4 64-bit",
   "language": "python",
   "name": "python3"
  },
  "language_info": {
   "codemirror_mode": {
    "name": "ipython",
    "version": 3
   },
   "file_extension": ".py",
   "mimetype": "text/x-python",
   "name": "python",
   "nbconvert_exporter": "python",
   "pygments_lexer": "ipython3",
   "version": "3.7.4"
  },
  "orig_nbformat": 4
 },
 "nbformat": 4,
 "nbformat_minor": 2
}
